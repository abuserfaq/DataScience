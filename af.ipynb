{
 "cells": [
  {
   "cell_type": "code",
   "execution_count": 83,
   "metadata": {},
   "outputs": [
    {
     "name": "stdout",
     "output_type": "stream",
     "text": [
      "CPU times: total: 0 ns\n",
      "Wall time: 0 ns\n",
      "minimum steps = 1; max = 30; среднее = 13.147\n"
     ]
    }
   ],
   "source": [
    "#/usr/bin/python3\n",
    "\"\"\"AutoFind game\n",
    "    Code to show some indian code skills\n",
    "\"\"\"\n",
    "%time\n",
    "\n",
    "from random import randint\n",
    "from numpy import mean\n",
    "\n",
    "def gen (times:int=100) -> int:\n",
    "    \"\"\"Generate random number for guessing\n",
    "    Args:\n",
    "        times (int, optional): maximum value of guessing number. Defaults to 100.\n",
    "    Returns:\n",
    "        int: returning number for guessing\n",
    "    \"\"\"\n",
    "    return randint(1, times)\n",
    "\n",
    "def guess(number):\n",
    "    \"\"\"main guessing function\n",
    "    Args:\n",
    "        number (_type_): _description_\n",
    "    Returns:\n",
    "        count: number of steps for guessed number\n",
    "    \"\"\"\n",
    "    start_number = 0\n",
    "    end_number = 100\n",
    "    current_guess_number = 0\n",
    "    count = 0\n",
    "\n",
    "    while current_guess_number != number:\n",
    "        count += 1\n",
    "        current_guess_number = randint(start_number,    end_number)\n",
    "        if current_guess_number < number:\n",
    "            start_number += (number - current_guess_number)//2 +1\n",
    "            #print(f'Nope - need more+  {current_guess_number}')\n",
    "            #print(f'{current_guess_number} += ({number} - {current_guess_number})/2 = {start_number}\\r\\n')\n",
    "            \n",
    "        elif current_guess_number > number:\n",
    "            start_number -= (current_guess_number - number)//2\n",
    "            end_number =  current_guess_number\n",
    "            #print(f'nope - need less-  {current_guess_number}')\n",
    "            #print(f'{current_guess_number} -= ({current_guess_number}-{number})/2 = {start_number}\\r\\n')\n",
    "            \n",
    "    #print(f'You win! {number}, by {count} steps')\n",
    "    return count\n",
    "    \n",
    "def game(total_games:int=1000) ->int:\n",
    "    \"\"\"Main game function\n",
    "\n",
    "    Args:\n",
    "        totalgames (int, optional): how many games to play. Defaults to 1000.\n",
    "\n",
    "    Returns:\n",
    "        int: return list of tryies\n",
    "    \"\"\"\n",
    "    x = []\n",
    "    for i in range(total_games):\n",
    "        x.append(guess(gen()))\n",
    "        i += 1\n",
    "    \n",
    "    print (f'minimum steps = {min(x)}; max = {max(x)}; среднее = {mean(x)}')\n",
    "\n",
    "\n",
    "game()"
   ]
  }
 ],
 "metadata": {
  "kernelspec": {
   "display_name": "Python 3.10.7 64-bit",
   "language": "python",
   "name": "python3"
  },
  "language_info": {
   "codemirror_mode": {
    "name": "ipython",
    "version": 3
   },
   "file_extension": ".py",
   "mimetype": "text/x-python",
   "name": "python",
   "nbconvert_exporter": "python",
   "pygments_lexer": "ipython3",
   "version": "3.10.7"
  },
  "orig_nbformat": 4,
  "vscode": {
   "interpreter": {
    "hash": "60561b79024b267bcad27c0ca809236624fc373ace0468f312bd59e020204208"
   }
  }
 },
 "nbformat": 4,
 "nbformat_minor": 2
}
